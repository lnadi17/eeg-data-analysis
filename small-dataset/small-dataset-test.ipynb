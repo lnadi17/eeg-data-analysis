{
 "cells": [
  {
   "cell_type": "code",
   "execution_count": 1,
   "id": "silver-third",
   "metadata": {},
   "outputs": [],
   "source": [
    "import numpy as np\n",
    "import pandas as pd"
   ]
  },
  {
   "cell_type": "markdown",
   "id": "strange-competition",
   "metadata": {},
   "source": [
    "EEG was first applied in humans nearly a century ago. It records the electric potential fluctuations at the scalp, primarily from locally synchronous post-synaptic activity in the apical dendrites of pyramidal cells in the cortex. Widely used in both clinical and non-clinical settings, EEG is becoming increasingly important in cognitive neuroscience, with statistics from scientific reports showing that interest in EEG has been growing faster since the early 2000s. This can be attributed to interest in brain–computer interfaces and more sophisticated dynamics measures along with more accurate biophysical models for reconstructing sources. EEG is more versatile than other imaging modalities because (i) it is lightweight and requires relatively low-cost equipment, (ii) it can be used in many different environments (e.g., while sitting in a lab chair, driving, walking, playing a video game, sleeping, interacting with others in social situations, etc.), (iii) it can be used either alone or in conjunction with other imaging modalities, (iv) its task design constraints are less restrictive than metabolic (PET) or hemodynamic (fMRI) imaging methods, and (v) it captures neural activity with millisecond precision, making it possible to record cortical dynamics at the speed of perception, thought and action. Because of this versatility, the field of applications for EEG is broad. In turn, the commercial market for EEG systems is much larger than that of other imaging techniques (e.g., PET, MRI, MEG), resulting in a multitude of equipment manufacturers (more than 10 major manufacturers in neuroscience) building different hardware systems, usually with their own software and proprietary data formats. Manufacturers have little financial incentive to cooperate and provide compatible formats. This resulting diversity of formats is an impediment to reusing data as well as to building large-scale EEG databases."
   ]
  },
  {
   "cell_type": "markdown",
   "id": "advance-kruger",
   "metadata": {},
   "source": [
    "EEG მონაცემების დახარისხების მეთოდების გამოსაკვლევად უკეთესი იქნებოდა რაც შეიძლება მეტ არხიანი EEG Recorder-ის ქონა, თუმცა რადგან ხარისხიანი EEG ჩამწერის შოვნა სირთულეებთან არის დაკავშირებული, რაც მოიცავს როგორც მის შესყიდვა-შენახვასთან დაკავშირებულ ფინანსურ ხარჯებს, ისე ექსპერიმენტის წარმატებულად ჩატარებასთან დაკავშირებულ სირთულეებს, დაგვრჩა მხოლოდ ერთი არჩევანი, რაც იყო Open-Source EEG მონაცემების მოძიება და მათგან სასურველის ამორჩევა."
   ]
  },
  {
   "cell_type": "markdown",
   "id": "domestic-simpson",
   "metadata": {},
   "source": [
    "თუმცა ამ მხრივაც არ არის ყველაფერი მარტივად. ბევრი რესურსი, რომელიც ინტერნეტში მოიძებნება, მოიცავს არასრულ, დაუხარისხებელ ან საეჭვო წარმომავლობის მქონე მონაცემებს, რომლების პროექტისთვის ფორმაში მოსაყვანადაც დიდი ძალისხმევაა საჭირო და შესაძლოა მოგვიანებით აღმოჩნდეს, რომ ჩვენს მიერ შეთავაზებულ მოდელს საერთოდ არ ერგება. თუმცა ყველაზე დიდი პრობლემა, როგორც აღმოჩნდა, ვადაგასული ბმულებია. ჩვენთვის ყველაზე საინტერესო მონაცემები, რომლების გადმოწერაც ვცადეთ, ყველას ლინკი ვადაგასული აღმოჩნდა. მაგალითისთვის იყო EEG მონაცემები, რომელიც იყო ადამიანების Random თემატიკის სურათზე პასუხი. პასუხში ყოველთვის იგულისხმება თავის ქალაზე დამაგრებული ელექტროდების სიგნალი რაიმე მოვლენის მოხდენის შემდგომ. ეს სურათები რამდენიმე მილიონიანი ბაზიდან ისემპლებოდა და საინტერესო იქნებოდა მისი ანალიზი სხვადასხვა კუთხით, თუმცა ბმული ვადაგასული აღმოჩნდა. ვცადეთ მონაცემების გამომქვეყნებელ პირებთან უშუალო კომუნიკაციაც, თუმცა უშედეგოდ."
   ]
  },
  {
   "cell_type": "markdown",
   "id": "accessory-curve",
   "metadata": {},
   "source": [
    "საბოლოოდ აღმოვაჩინეთ ერთ-ერთი საჯარო ბიბლიოთეკა, სადაც ვიპოვეთ მონაცემები რომლებიც ჩვენს კრიტერიუმებს აკმაყოფილებდა. მარტივად, ეს კრიტერიუმები იყო მონაცემების სიმრავლე, თუ რამდენად დახარისხებულია ის, მისი წარმომავლობის ვალიდურობა და ჩვენთვის საინტერესო თემატიკასთან შესაბამისობა. აგრეთვე ვაკვირდებოდით თუ რა სახის შედეგები იყო მიღებული უკვე ამ მონაცემებით."
   ]
  },
  {
   "cell_type": "markdown",
   "id": "veterinary-perth",
   "metadata": {},
   "source": [
    "OpenNeuro კარგად ნაცნობი მონაცემების არქივია, რომელიც Stanford-ის უნივერსიტეტში მომუშავე გუნდის შექმნილია. ის არის ღია პლატფორმა, რომელიც მკვლევრებს აძლევს საშუალებას ერთმანეთს გაუზიარონ ნეიროვიზუალიზაციის მონაცემები. ეს მონაცემები კი ნებისმიერს შეუძლია გამოიყენოს, ვინც კი ვებ-გვერდზე დარეგისტრირდება. მას NIMH-ისგან (National Institute of Mental Health) მიენიჭა რეპოზიტორიის სტატუსი, სადაც ყველა Brain Initiative პროექტის ნეიროვიზუალიზაციის მონაცემები აიტვირთება."
   ]
  },
  {
   "cell_type": "markdown",
   "id": "sudden-messenger",
   "metadata": {},
   "source": [
    "Public EEG Database: \n",
    "\n",
    "https://sccn.ucsd.edu/~arno/fam2data/publicly_available_EEG_data.html?fbclid=IwAR27Xiv8qEhm-Q5SpOeb06dbvmcgerQ6jZ2Yej4pZL6qCVBKp8oYRW3JBfY"
   ]
  },
  {
   "cell_type": "markdown",
   "id": "smart-standing",
   "metadata": {},
   "source": [
    "არსებული წყაროდან მოვიძიეთ რესურსი, რომელიც ფსიქოფიზიკის თემასთან არის დაკავშირებული. ზოგადად ფსიქოფიზიკა კავშირის შესწავლაა გრძნობის ორგანოს გაღიზიანების ძალის და შეგრძნების ინტენსიურობას შორის, ამის კონკრეტულ გამოვლინებას კი მოგვიანებით გავეცნობით, ახლა კი აღვწერთ მონაცემებს და მის დამუშავებასთან დაკავშირებულ სირთულეებს:\n",
    "\n",
    "მონაცემები 700მბ ზომისაა, სადაც მოთავსებულია 122 სუბიექტის 64 არხიანი EEG-ით აღებული სიგნალი. ეს ჩანაწერები არის ალკოჰოლიკი და საკონტროლო ჯგუფის მიერ შესრულებული ვიზუალური გადარჩევის დავალება. ამ მონაცემების ერთადერთი ლიმიტაცია ისაა, რომ მხოლოდ ეპოქები (მონაცემი 0-დან 1 წამამდე სტიმულის ჩვენებიდან) არის ხელმისაწვდომი. ამ ფაილების დეკომპრესირების შემდეგ, შეგვიძლია ისინი MATLAB-ში გავხსნათ და დავამუშაოთ. აგრეთვე აღვწერთ ექსპერიმენტს დეტალურად და ჩამოვთვლით პროექტის შესაძლო განვითარების გზებს."
   ]
  },
  {
   "cell_type": "code",
   "execution_count": null,
   "id": "proprietary-plant",
   "metadata": {},
   "outputs": [],
   "source": []
  }
 ],
 "metadata": {
  "kernelspec": {
   "display_name": "Python 3",
   "language": "python",
   "name": "python3"
  },
  "language_info": {
   "codemirror_mode": {
    "name": "ipython",
    "version": 3
   },
   "file_extension": ".py",
   "mimetype": "text/x-python",
   "name": "python",
   "nbconvert_exporter": "python",
   "pygments_lexer": "ipython3",
   "version": "3.8.7"
  }
 },
 "nbformat": 4,
 "nbformat_minor": 5
}
